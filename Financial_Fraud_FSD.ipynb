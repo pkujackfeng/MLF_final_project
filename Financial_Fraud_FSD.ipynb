{
 "cells": [
  {
   "cell_type": "markdown",
   "metadata": {},
   "source": [
    "# Detecting Financial Fraud with First Digit Law"
   ]
  },
  {
   "cell_type": "markdown",
   "metadata": {},
   "source": [
    "Feng Xi, 2201212354"
   ]
  },
  {
   "cell_type": "code",
   "execution_count": 1,
   "metadata": {},
   "outputs": [],
   "source": [
    "from configparser import MAX_INTERPOLATION_DEPTH\n",
    "import math\n",
    "from random import random\n",
    "import pandas as pd\n",
    "import numpy as np\n",
    "from datetime import datetime\n",
    "import csv\n",
    "from sklearn.model_selection import train_test_split\n",
    "from imblearn.over_sampling import SMOTE\n",
    "from imblearn.under_sampling import RandomUnderSampler\n",
    "from sklearn.preprocessing import StandardScaler\n",
    "from sklearn.decomposition import PCA\n",
    "import matplotlib.pyplot as plt\n",
    "from sklearn.model_selection import GridSearchCV\n",
    "from sklearn.linear_model import LogisticRegression\n",
    "from sklearn.neural_network import MLPClassifier\n",
    "from sklearn.svm import SVC\n",
    "from sklearn.tree import DecisionTreeClassifier\n",
    "from sklearn.ensemble import RandomForestClassifier\n",
    "from sklearn.metrics import confusion_matrix,classification_report\n",
    "from sklearn.metrics import roc_curve\n",
    "from sklearn.metrics import roc_auc_score\n",
    "import warnings\n",
    "# Ignore all userWarning\n",
    "warnings.filterwarnings('ignore', category=UserWarning)"
   ]
  },
  {
   "cell_type": "markdown",
   "metadata": {},
   "source": [
    "## 1. First Digit Law"
   ]
  },
  {
   "cell_type": "markdown",
   "metadata": {},
   "source": [
    "### Introduction to First Digit Law"
   ]
  },
  {
   "cell_type": "markdown",
   "metadata": {},
   "source": [
    "> Have you found that, numbers in real life usually begin with 1, and seldom begin with 9? "
   ]
  },
  {
   "cell_type": "markdown",
   "metadata": {},
   "source": [
    "> First Digit Law, or Benford's Law, tells us that:\n",
    ">\n",
    "> - the probability that a positive number in b-base begins with a digit in [d,d+l) can be expressed as:\n",
    ">\n",
    "> $$ P_{b,l,d}= \\log_b⁡(1+\\frac{l}{d}) $$\n",
    ">\n",
    "> - We let $b=10$ (in decimal system) and $l=1$,\n",
    "> \n",
    "> $$ P_{d}= \\log_{10}⁡(1+\\frac{1}{d}) $$\n",
    "> \n",
    "> ![图片](https://github.com/pkujackfeng/MLF_final_project/assets/90912432/b24c1d01-d861-4a41-a7e3-a2499bc49421)\n",
    "\n"
   ]
  },
  {
   "cell_type": "markdown",
   "metadata": {},
   "source": [
    "### 2. Proof of FDL"
   ]
  },
  {
   "cell_type": "markdown",
   "metadata": {},
   "source": [
    "### 2.1 Intuition\n",
    "> To grow from 1 to 2, you need to grow by 100%.\n",
    "> \n",
    "> To grow from 8 to 9, you just need to grow by 12.5%.\n",
    ">\n",
    "> So it's more difficult to grow from 1 to 2, which means there are more time that you stay in [1,2).\n",
    ">"
   ]
  },
  {
   "cell_type": "markdown",
   "metadata": {},
   "source": [
    "### 2.2 Proof with Laplace Transform\n",
    "> Reference: [First Digit Law from Laplace Transform](https://www.sciencedirect.com/science/article/pii/S0375960119302452)\n"
   ]
  },
  {
   "cell_type": "markdown",
   "metadata": {},
   "source": [
    "> F(x) : PDF (probability density function)\n",
    "> \n",
    "> $P_d$: the probability that $x \\in [d\\cdot 10^n,(d+1)\\cdot 10^n)$\n",
    "> \n",
    "> $$ P_{d}= \\sum_{n=-\\infty}^{+\\infty}\\int_{d\\cdot 10^n}^{(d+1)\\cdot 10^n} F(x) {\\rm{d}} x $$\n",
    ">\n",
    "> $$ =\\int_0^{\\infty}F(x)g_d(x){\\rm{d}}x$$\n",
    "> \n",
    "> where\n",
    ">\n",
    "> $$ g_d(x) = \\sum_{n=-\\infty}^{+\\infty} [\\eta(x-d\\cdot 10^n)-\\eta(x-(d+1)\\cdot 10^n)] $$\n",
    ">\n",
    "> $$ \\eta(x) = \\begin{cases}\n",
    "1 \\quad {\\rm{if}} \\quad  x\\geq 0 \\\\\n",
    "0 \\quad {\\rm{if}} \\quad  x>0 \\\\\n",
    "\\end{cases}\n",
    "$$\n",
    "\n",
    "> In interval [1,30),  the gap between the shaded areas in $g_2(x)$ is wider than that in $g_2(x)$\n",
    "> \n",
    "> ![图片](https://github.com/pkujackfeng/MLF_final_project/assets/90912432/07756d3f-d84f-4c51-bd61-7d44267ab06c)\n",
    ">\n",
    "> Above intuitively explains the inequality among the 9 digits, where smaller leading digits are more likely to appear.\n"
   ]
  },
  {
   "cell_type": "markdown",
   "metadata": {},
   "source": [
    "> The idea of the proof is to use\n",
    ">\n",
    "> - G(x): the Laplace transform of g(x)\n",
    ">\n",
    "> - f(x): the inverse Laplace transform of F(x),\n",
    ">\n",
    "> - and the property of Laplace Transform:\n",
    "> \n",
    "> $$ \\int_{0}^{+\\infty} F(x)g(x) {\\rm{d}} x = \\int_{0}^{+\\infty} f(t)G(t) {\\rm{d}} t $$\n",
    ">\n",
    ">  and finally proved that:\n",
    ">\n",
    "> $$ P_d = \\log(1+\\frac{1}{d}) + \\int_{-\\infty}^{+\\infty}\\tilde{f} (s) \\tilde{\\Delta} (s) {\\rm{d}}s$$\n",
    ">\n",
    "> where the second term is a small error term.\n"
   ]
  },
  {
   "cell_type": "markdown",
   "metadata": {},
   "source": [
    "### 2.3 Proof with Fourier Transform\n",
    "> My undergraduate thesis is to prove First Digit Law with Fourier Transform.\n",
    "> \n",
    "> Basic idea is similar.\n",
    "> \n",
    "> The proof with Laplace/Fourier transform requires that the PDF of x should meet the requirements of having Laplace/Fourier Transform.\n",
    "> \n",
    ">  The requiments of having Fourier Transform are lower than that of having Laplace Transform.\n",
    ">"
   ]
  },
  {
   "cell_type": "markdown",
   "metadata": {},
   "source": [
    "## 3. Motivation\n",
    "> First Digit Law can be used to detect financial Fraud, because numbers in financial statements also follow the First Digit Law. \n",
    "\n",
    "> - If not, there is possibility that someone manupulates the numbers.\n"
   ]
  },
  {
   "cell_type": "markdown",
   "metadata": {},
   "source": [
    "> Below we show the first digit distribution of all the positive numbers in the 2021Q3 quaterly financial statements of two companies BYD and Gotion High-TECH, who both make EV batteries:\n",
    ">\n",
    "> ![图片](https://github.com/pkujackfeng/MLF_final_project/assets/90912432/898d67ac-352e-4ec9-a248-a9acf5907169)\n",
    ">\n",
    "> Gotion's distribution seems to violate the First Digit Law, and was really caught financial fraud in July 2022."
   ]
  },
  {
   "cell_type": "markdown",
   "metadata": {},
   "source": [
    "## 4. Data"
   ]
  },
  {
   "cell_type": "markdown",
   "metadata": {},
   "source": [
    "### 4.1 Variable\n",
    "> X: the difference between\n",
    ">\n",
    "> - the distribution of the first digits in a company's 3 financial statements\n",
    ">\n",
    "> - and the Benford distribution\n"
   ]
  },
  {
   "cell_type": "markdown",
   "metadata": {},
   "source": [
    "> y: whether the company was reported financial fraud\n",
    ">\n",
    "> - 1: Yes\n",
    ">\n",
    "> - 0: No\n",
    ">\n",
    "> y depends on the auditor's opinion on the financial statements:\n",
    "> \n",
    ">   - y = 0, Standard unqualified opinion\n",
    ">\n",
    ">   - y = 1, Unqualified opinion with emphasis paragraph\n",
    ">   \n",
    ">   - y = 1, reserved opinion\n",
    ">   \n",
    ">   - y = 1, inability to express opinion\n",
    ">   \n",
    ">  - y = 1, negative opinion"
   ]
  },
  {
   "cell_type": "markdown",
   "metadata": {},
   "source": [
    "### 4.2 Time period\n",
    "> X: annual financial statements in 2015~2019\n",
    "\n",
    "> y: whether the company was reported financial fraud in 2015~2022\n",
    ">\n",
    "> - The average time interval between a company's financial fraud and its discovery is 2.97 years\n",
    ">\n",
    "> Source: *Research on Financial Fraud Identification of Listed Companies Based"
   ]
  },
  {
   "cell_type": "markdown",
   "metadata": {},
   "source": [
    "### 4.3 Companies\n",
    "> We choose CSI 500 excluding finance stocks:\n",
    ">\n",
    "> - CSI 500: China Securities ranking 301~800 in market cap\n",
    "> - why exclude finance stocks: finance companies have many unique financial accounts, which don't apply to non-finance companies"
   ]
  },
  {
   "cell_type": "markdown",
   "metadata": {},
   "source": [
    "### 4.4 Data aquisition\n",
    "> We get numbers of financial statements through WIND API\n",
    "\n",
    "> We get auditor's opinion on financial statements through WIND EXCEL Plugger"
   ]
  },
  {
   "cell_type": "code",
   "execution_count": 2,
   "metadata": {},
   "outputs": [
    {
     "name": "stdout",
     "output_type": "stream",
     "text": [
      "Welcome to use Wind Quant API for Python (WindPy)!\n",
      "\n",
      "COPYRIGHT (C) 2020 WIND INFORMATION CO., LTD. ALL RIGHTS RESERVED.\n",
      "IN NO CIRCUMSTANCE SHALL WIND BE RESPONSIBLE FOR ANY DAMAGES OR LOSSES CAUSED BY USING WIND QUANT API FOR Python.\n"
     ]
    },
    {
     "data": {
      "text/plain": [
       ".ErrorCode=0\n",
       ".Data=[OK!]"
      ]
     },
     "execution_count": 2,
     "metadata": {},
     "output_type": "execute_result"
    }
   ],
   "source": [
    "from WindPy import w\n",
    "w.start()"
   ]
  },
  {
   "cell_type": "code",
   "execution_count": 3,
   "metadata": {},
   "outputs": [],
   "source": [
    "## Step 1. Get stock list of CSI_500 excluding finance stocks, and the companies should go public before 2015 and not be delisted before 2022\n",
    "## It takes time to access 'ipo' and 'sec_status' from WIND API, so we export the stock list to csv \n",
    "# CSI_500 = (w.wset(\"indexconstituent\",\"date=2020-01-01;windcode=000905.SH;field=wind_code,sec_name\")).Data[0]\n",
    "# finance = (w.wset(\"indexconstituent\",\"date=2020-01-01;windcode=882007.WI;field=wind_code,sec_name\")).Data[0]\n",
    "# stock_list_1 = list(set(CSI_500)-set(finance))\n",
    "# stock_list = []\n",
    "# for stock in stock_list_1:\n",
    "#     ipo = w.wss(stock,\"ipo_date\").Data[0][0]\n",
    "#     status = w.wss(stock,\"sec_status\").Data[0][0]\n",
    "#     if ipo < datetime.strptime(\"2015-01-01 00:00:00\", '%Y-%m-%d %H:%M:%S') and status == 'L':\n",
    "#         stock_list.append(stock)\n",
    "# stock_list = pd.DataFrame(stock_list)\n",
    "# stock_list.to_csv('CSI_500_exclude_finance.csv',index = False)"
   ]
  },
  {
   "cell_type": "code",
   "execution_count": 4,
   "metadata": {},
   "outputs": [],
   "source": [
    "## Step 2. Get distribution of first digit of the 3 financial statements\n",
    "## It takes about 2 hours to access all the numbers, so we export the reult into csv\n",
    "# def get_frequency(stock,year):\n",
    "#     # stock = '300251.SZ'\n",
    "#     # year = 2010\n",
    "#     frequency = [0,0,0,0,0,0,0,0,0]\n",
    "#     financials = w.wss(stock, \"monetary_cap,tradable_fin_assets,notes_rcv,acct_rcv,financing_a/r,prepay,dvd_rcv,int_rcv,oth_rcv,inventories,consumptive_bio_assets,cont_assets,deferred_exp,hfs_assets,non_cur_assets_due_within_1y,oth_cur_assets,fin_assets_chg_compreh_inc,fin_assets_amortizedcost,debt_invest,oth_debt_invest,fin_assets_avail_for_sale,oth_eqy_instruments_invest,held_to_mty_invest,oth_non_cur_fina_asset,invest_real_estate,long_term_eqy_invest,long_term_rec,fix_assets,const_in_prog,proj_matl,productive_bio_assets,oil_and_natural_gas_assets,prop_right_use,intang_assets,r_and_d_costs,goodwill,long_term_deferred_exp,deferred_tax_assets,loans_and_adv_granted,oth_non_cur_assets,st_borrow,tradable_fin_liab,notes_payable,acct_payable,adv_from_cust,cont_liab,empl_ben_payable,taxes_surcharges_payable,tot_acct_payable,int_payable,dvd_payable,oth_payable,acc_exp,deferred_inc_cur_liab,hfs_liab,non_cur_liab_due_within_1y,st_bonds_payable,oth_cur_liab,lt_borrow,bonds_payable,lease_obligation,lt_payable,lt_empl_ben_payable,specific_item_payable,provisions,deferred_tax_liab,deferred_inc_non_cur_liab,oth_non_cur_liab,cap_stk,other_equity_instruments_PRE,perpetual_debt,cap_rsrv,surplus_rsrv,undistributed_profit,tsy_stk,other_compreh_inc_bs,special_rsrv,prov_nom_risks,cnvd_diff_foreign_curr_stat,unconfirmed_invest_loss_bs,eqy_belongto_parcomsh,minority_int,oper_rev,other_oper_inc,oper_cost,taxes_surcharges_ops,selling_dist_exp,gerl_admin_exp,rd_exp,fin_exp_is,impair_loss_assets,credit_impair_loss,other_oper_exp,net_inc_other_ops,net_gain_chg_fv,net_invest_inc,inc_invest_assoc_jv_entp,ter_fin_ass_income,net_exposure_hedge_ben,net_gain_fx_trans,gain_asset_dispositions,other_grants_inc,opprofit,non_oper_rev,non_oper_exp,net_loss_disp_noncur_asset,tot_profit,tax,unconfirmed_invest_loss_is,net_profit_is,np_belongto_parcomsh,cash_recp_sg_and_rs,recp_tax_rends,other_cash_recp_ral_oper_act,stot_cash_inflows_oper_act,net_fina_instruments_measured_at_fmv,cash_pay_goods_purch_serv_rec,cash_pay_beh_empl,pay_all_typ_tax,other_cash_pay_ral_oper_act,stot_cash_outflows_oper_act,net_cash_flows_oper_act,cash_recp_disp_withdrwl_invest,cash_recp_return_invest,net_cash_recp_disp_fiolta,net_cash_recp_disp_sobu,other_cash_recp_ral_inv_act,stot_cash_inflows_inv_act,cash_pay_acq_const_fiolta,cash_paid_invest,net_incr_pledge_loan,net_cash_pay_aquis_sobu,other_cash_pay_ral_inv_act,stot_cash_outflows_inv_act,cash_recp_cap_contrib,cash_rec_saims,cash_recp_borrow,other_cash_recp_ral_fnc_act,proc_issue_bonds,stot_cash_inflows_fnc_act,cash_prepay_amt_borr,cash_pay_dist_dpcp_int_exp,dvd_profit_paid_sc_ms,other_cash_pay_ral_fnc_act,stot_cash_outflows_fnc_act,net_cash_flows_fnc_act,eff_fx_flu_cash,net_incr_cash_cash_equ_dm,cash_cash_equ_beg_period,cash_cash_equ_end_period\",\"unit=1;rptDate=\" + str(year) + \"1231;rptType=1\").Data\n",
    "#     for item in financials:\n",
    "#         number = item[0]\n",
    "#         if number != np.nan and number > 0:\n",
    "#             for i in range(len(str(number))):\n",
    "#                 first_digit = str(number)[i]\n",
    "#                 if first_digit in ['1','2','3','4','5','6','7','8','9']:\n",
    "#                     frequency[int(first_digit)-1] += 1\n",
    "#                     break\n",
    "#                 i = i+1\n",
    "#     total_sum = sum(frequency)\n",
    "#     for i in range(len(frequency)):\n",
    "#         frequency[i] = frequency[i]/total_sum\n",
    "#     return frequency\n",
    "# with open('CSI_500_exclude_finance.csv','r') as file:\n",
    "#     csv_reader =csv.reader(file)\n",
    "#     stock_list =[]\n",
    "#     for row in csv_reader:\n",
    "#         stock_list.append(row)\n",
    "# for i in range(len(stock_list)):\n",
    "#     stock_list[i] = stock_list[i][0]\n",
    "# First_Digit_Frequency = pd.DataFrame(\n",
    "#     index = stock_list,\n",
    "#     columns = pd.MultiIndex.from_product([\n",
    "#         [2015,2016,2017,2018,2019],\n",
    "#         [1,2,3,4,5,6,7,8,9]]))\n",
    "# for stock in stock_list:\n",
    "#     for year in [2015,2016,2017,2018,2019]:\n",
    "#         for i in range(9):\n",
    "#             First_Digit_Frequency.loc[stock,(year,i+1)] = get_frequency(stock,year)[i]\n",
    "# First_Digit_Frequency.to_csv('First_Digit_Frequency.csv',index = True)\n"
   ]
  },
  {
   "cell_type": "markdown",
   "metadata": {},
   "source": [
    "### 4.5 Data processing\n",
    "> $X_i$ describes the difference between real frequency and Benford frequency:\n",
    "> \n",
    "> $$ X_i = \\frac{{\\rm{frequency \\ \\ of \\ \\ beginning \\ \\ with \\ \\ digit \\ \\ i}}}{{\\rm{Benford \\ \\  frequency\\ \\ [i]}}} $$\n"
   ]
  },
  {
   "cell_type": "code",
   "execution_count": 5,
   "metadata": {},
   "outputs": [],
   "source": [
    "## Step 3. Get X data\n",
    "First_Digit_Frequency = pd.read_csv('First_Digit_Frequency.csv')\n",
    "First_Digit_Frequency.set_index('stock',inplace = True)\n",
    "First_Digit_Frequency.columns = pd.MultiIndex.from_product([\n",
    "    [2015,2016,2017,2018,2019],\n",
    "    [1,2,3,4,5,6,7,8,9]])\n",
    "# print(First_Digit_Frequency.loc['000975.SZ',(2015,1)])\n",
    "## Get the difference between the first digit distribution with the Benford distribution\n",
    "Benford_Frequency = []\n",
    "for i in range(1,10):\n",
    "    Benford_Frequency.append(math.log10(1+1/i))\n",
    "First_Digit_Frequency = First_Digit_Frequency.stack(level = 0)\n",
    "for i in range(9):\n",
    "    First_Digit_Frequency.iloc[:,i] = abs(First_Digit_Frequency.iloc[:,i]/Benford_Frequency[i])\n",
    "First_Digit_Frequency = First_Digit_Frequency.unstack()\n",
    "X = pd.DataFrame(index = First_Digit_Frequency.index)\n",
    "for i in range(1,10):\n",
    "    X[i] = First_Digit_Frequency.loc[:,i].max(axis=1)\n",
    "X.columns = ['x1','x2','x3','x4','x5','x6','x7','x8','x9']\n"
   ]
  },
  {
   "cell_type": "code",
   "execution_count": 6,
   "metadata": {},
   "outputs": [],
   "source": [
    "## Step 4. Get y data\n",
    "## We can get the auditor comments through WIND Excel Plugger\n",
    "y = pd.read_csv('y.csv')\n",
    "y = y.set_index('stock')"
   ]
  },
  {
   "cell_type": "code",
   "execution_count": 7,
   "metadata": {},
   "outputs": [
    {
     "name": "stdout",
     "output_type": "stream",
     "text": [
      "                 x1        x2        x3        x4        x5        x6   \n",
      "stock                                                                   \n",
      "000006.SZ  1.337999  1.298028  1.333987  1.433174  1.578657  1.493724  \\\n",
      "000008.SZ  0.992760  1.543172  1.333987  2.110674  1.372745  2.060308   \n",
      "000009.SZ  0.953821  1.089885  1.188701  1.459231  1.530819  1.659693   \n",
      "000012.SZ  0.972272  1.108073  1.284580  1.258396  1.578657  1.659693   \n",
      "000021.SZ  1.435401  1.284507  1.429272  0.839906  1.291628  1.867155   \n",
      "...             ...       ...       ...       ...       ...       ...   \n",
      "603000.SH  1.256946  1.227865  1.067190  1.238262  1.365325  1.412982   \n",
      "603077.SH  1.093806  1.320668  1.655984  1.258396  1.560919  1.563199   \n",
      "603328.SH  0.910117  1.519699  1.206071  1.612320  1.443343  1.920502   \n",
      "603766.SH  1.291861  0.903457  1.143418  1.407116  1.419017  1.659693   \n",
      "603806.SH  1.092740  1.439714  1.297933  1.598695  1.194659  1.120293   \n",
      "\n",
      "                 x7        x8        x9  y  \n",
      "stock                                       \n",
      "000006.SZ  2.394969  2.506331  1.821195  0  \n",
      "000008.SZ  1.124594  1.348233  0.971304  0  \n",
      "000009.SZ  1.841568  1.777216  1.697425  0  \n",
      "000012.SZ  1.472029  2.221520  2.665164  0  \n",
      "000021.SZ  2.205599  1.206752  1.079227  0  \n",
      "...             ...       ...       ... ..  \n",
      "603000.SH  2.759004  1.849266  1.476645  0  \n",
      "603077.SH  0.841160  1.123527  1.227772  0  \n",
      "603328.SH  1.478038  1.527295  1.197498  0  \n",
      "603766.SH  1.937503  2.665824  1.490069  0  \n",
      "603806.SH  1.828885  1.543372  1.846846  0  \n",
      "\n",
      "[399 rows x 10 columns]\n"
     ]
    }
   ],
   "source": [
    "## Step 5. Put X and y together\n",
    "X_y = pd.concat([X, y], axis=1)\n",
    "print(X_y)\n",
    "y = y.values.ravel()"
   ]
  },
  {
   "cell_type": "code",
   "execution_count": 8,
   "metadata": {},
   "outputs": [],
   "source": [
    "## Step 6. Split into train set and test set\n",
    "random_seed = 42\n",
    "X_train, X_test, y_train, y_test = train_test_split(\n",
    "    X, y, test_size=0.3, random_state = random_seed, stratify=y)"
   ]
  },
  {
   "cell_type": "markdown",
   "metadata": {},
   "source": [
    "> A big issue is that the dataset is imbalanced, there are too few samples with y= 0.\n",
    ">\n",
    "> So within the trainning set we use *RandomUnderSampler:"
   ]
  },
  {
   "cell_type": "code",
   "execution_count": 9,
   "metadata": {},
   "outputs": [
    {
     "name": "stdout",
     "output_type": "stream",
     "text": [
      "Before RandomUnderSampler, 36/279=12% samples are y=1.\n",
      "After RandomUnderSampler, 36/72=50% samples are y=1.\n"
     ]
    }
   ],
   "source": [
    "## Step 7. Use RandomUnderSampler, because the dataset is very imbalanced\n",
    "print(\"Before RandomUnderSampler, %s/%s=%s%% samples are y=1.\" % (np.sum(y_train==1),len(y_train),int(np.mean(y_train)*100)))\n",
    "rus = RandomUnderSampler(sampling_strategy=1,random_state=random_seed)\n",
    "x_new, y_new = rus.fit_resample(X_train, y_train)\n",
    "X_train = x_new\n",
    "y_train = y_new\n",
    "print(\"After RandomUnderSampler, %s/%s=%s%% samples are y=1.\" % (np.sum(y_train==1),len(y_train),int(np.mean(y_train)*100)))"
   ]
  },
  {
   "cell_type": "code",
   "execution_count": 11,
   "metadata": {},
   "outputs": [
    {
     "name": "stdout",
     "output_type": "stream",
     "text": [
      "[0.28133976 0.17009253 0.13187059 0.12136974 0.09911254 0.07945518\n",
      " 0.06623627 0.03462594 0.01589746]\n"
     ]
    },
    {
     "data": {
      "image/png": "[encoded data removed]",
      "text/plain": [
       "<Figure size 640x480 with 1 Axes>"
      ]
     },
     "metadata": {},
     "output_type": "display_data"
    }
   ],
   "source": [
    "## Step 8. PCA feature engineering\n",
    "pca = PCA()\n",
    "X_train_pca = pca.fit_transform(X_train)\n",
    "pca.explained_variance_ratio_\n",
    "print(pca.explained_variance_ratio_)\n",
    "plt.bar(range(1, 10), pca.explained_variance_ratio_, alpha=0.5, align='center')\n",
    "plt.step(range(1, 10), np.cumsum(pca.explained_variance_ratio_), where='mid')\n",
    "plt.ylabel('Explained variance ratio')\n",
    "plt.xlabel('Principal components')\n",
    "plt.xticks(ticks=list(range(1,10)))\n",
    "for i in range(1,10):\n",
    "    plt.text(i, pca.explained_variance_ratio_[i-1], \"{:.0%}\".format(pca.explained_variance_ratio_[i-1]),fontsize=10,verticalalignment='bottom',horizontalalignment='center')\n",
    "plt.show()\n",
    "# Select features\n",
    "X_train = X_train.iloc[:,:9]\n",
    "X_test = X_test.iloc[:,:9]"
   ]
  },
  {
   "cell_type": "markdown",
   "metadata": {},
   "source": [
    "## 5. Model Results"
   ]
  },
  {
   "cell_type": "code",
   "execution_count": 12,
   "metadata": {},
   "outputs": [],
   "source": [
    "## Step 9. For each model, we define a function to evaluate the result for test set\n",
    "def show_result(y_true, y_predict):\n",
    "    # Confusion matrix\n",
    "    matrix_test = confusion_matrix(y_true, y_predict)\n",
    "    print(\"Confusion matrix:\")\n",
    "    print(matrix_test)\n",
    "    # Classification report\n",
    "    report_test = classification_report(y_true, y_predict)\n",
    "    print(\"Classification report:\")\n",
    "    print(report_test)\n",
    "    fpr,tpr,thresholds1 = roc_curve(y_true,y_predict,drop_intermediate = False)\n",
    "    # ROC curve\n",
    "    plt.plot(fpr,tpr,'r*-')\n",
    "    plt.plot([0,1],[0,1])\n",
    "    plt.plot(\"FPR\")\n",
    "    plt.plot(\"TPR\")\n",
    "    plt.title(\"ROC Curve\")\n",
    "    plt.plot(fpr,tpr,'r*-')\n",
    "    plt.plot([0,1],[0,1])\n",
    "    plt.plot(\"FPR\")\n",
    "    plt.plot(\"TPR\")\n",
    "    plt.title(\"ROC Curve\")\n",
    "    plt.show()\n",
    "    # AUC score\n",
    "    print(\"AUC score:\")\n",
    "    print(roc_auc_score(y_true,y_predict))"
   ]
  },
  {
   "cell_type": "markdown",
   "metadata": {},
   "source": [
    "## 5.1 Logistic Regression"
   ]
  },
  {
   "cell_type": "code",
   "execution_count": 13,
   "metadata": {},
   "outputs": [
    {
     "name": "stdout",
     "output_type": "stream",
     "text": [
      "Grid Search for best model {'C': 150, 'penalty': 'l1'}\n",
      "Confusion matrix:\n",
      "[[53 51]\n",
      " [ 5 11]]\n",
      "Classification report:\n",
      "              precision    recall  f1-score   support\n",
      "\n",
      "           0       0.91      0.51      0.65       104\n",
      "           1       0.18      0.69      0.28        16\n",
      "\n",
      "    accuracy                           0.53       120\n",
      "   macro avg       0.55      0.60      0.47       120\n",
      "weighted avg       0.82      0.53      0.60       120\n",
      "\n"
     ]
    },
    {
     "data": {
      "image/png": "[encoded data removed]",
      "text/plain": [
       "<Figure size 640x480 with 1 Axes>"
      ]
     },
     "metadata": {},
     "output_type": "display_data"
    },
    {
     "name": "stdout",
     "output_type": "stream",
     "text": [
      "AUC score:\n",
      "0.5985576923076923\n"
     ]
    }
   ],
   "source": [
    "# Step 10.1 LogisticRegression\n",
    "LR = LogisticRegression(solver='liblinear')\n",
    "LR_param_grid = {\n",
    "    'C': [10,20,50,75,100,150,200,250,500,600,700,800,900,1000,1100,1200,1300,1400,1500],\n",
    "    'penalty': ['l1', 'l2'] }\n",
    "LR_grid_search = GridSearchCV(LR, LR_param_grid, cv=5, return_train_score=True)\n",
    "LR_grid_search.fit(X_train, y_train)\n",
    "# Grid search result for hyperparameters\n",
    "print(\"Grid Search for best model\", LR_grid_search.best_params_)\n",
    "LR_best_model = LR_grid_search.best_estimator_\n",
    "y_LR_predict = LR_best_model.predict(X_test)\n",
    "show_result(y_test, y_LR_predict)"
   ]
  },
  {
   "cell_type": "markdown",
   "metadata": {},
   "source": [
    "## 5.2 MLPClassifier"
   ]
  },
  {
   "cell_type": "code",
   "execution_count": 14,
   "metadata": {},
   "outputs": [
    {
     "name": "stdout",
     "output_type": "stream",
     "text": [
      "Grid Search for best model {'activation': 'tanh', 'alpha': 0.0001, 'hidden_layer_sizes': (100, 100), 'learning_rate_init': 0.001, 'solver': 'adam'}\n",
      "Confusion matrix:\n",
      "[[51 53]\n",
      " [ 6 10]]\n",
      "Classification report:\n",
      "              precision    recall  f1-score   support\n",
      "\n",
      "           0       0.89      0.49      0.63       104\n",
      "           1       0.16      0.62      0.25        16\n",
      "\n",
      "    accuracy                           0.51       120\n",
      "   macro avg       0.53      0.56      0.44       120\n",
      "weighted avg       0.80      0.51      0.58       120\n",
      "\n"
     ]
    },
    {
     "data": {
      "image/png": "[encoded data removed]",
      "text/plain": [
       "<Figure size 640x480 with 1 Axes>"
      ]
     },
     "metadata": {},
     "output_type": "display_data"
    },
    {
     "name": "stdout",
     "output_type": "stream",
     "text": [
      "AUC score:\n",
      "0.5576923076923077\n"
     ]
    }
   ],
   "source": [
    "# # Step 10.2 MLP Classifier\n",
    "MLP_grid = {\n",
    "    'solver': ['adam'],\n",
    "    'learning_rate_init': [0.001],\n",
    "    'hidden_layer_sizes': [(10,10),(30,30),(80,80),(100,100),(120,120),(150,150)],\n",
    "    'activation': ['tanh'], # ['logistic', 'tanh', 'relu'],\n",
    "    'alpha': [0.0001],\n",
    "    }\n",
    "MLP_grid_search = GridSearchCV(MLPClassifier(max_iter = 300,random_state = random_seed), MLP_grid, cv=5, scoring='accuracy')\n",
    "MLP_grid_search.fit(X_train, y_train)\n",
    "# Grid search result for hyperparameters\n",
    "print(\"Grid Search for best model\", MLP_grid_search.best_params_)\n",
    "MLP_best_model = MLP_grid_search.best_estimator_\n",
    "y_MLP_predict = MLP_best_model.predict(X_test)\n",
    "show_result(y_test, y_MLP_predict)"
   ]
  },
  {
   "cell_type": "markdown",
   "metadata": {},
   "source": [
    "## 5.3 SVM"
   ]
  },
  {
   "cell_type": "code",
   "execution_count": 15,
   "metadata": {},
   "outputs": [
    {
     "name": "stdout",
     "output_type": "stream",
     "text": [
      "Fitting 5 folds for each of 42 candidates, totalling 210 fits\n",
      "[CV 1/5] END .......C=500, gamma=10, kernel=rbf;, score=0.400 total time=   0.0s\n",
      "[CV 2/5] END .......C=500, gamma=10, kernel=rbf;, score=0.533 total time=   0.0s\n",
      "[CV 3/5] END .......C=500, gamma=10, kernel=rbf;, score=0.357 total time=   0.0s\n",
      "[CV 4/5] END .......C=500, gamma=10, kernel=rbf;, score=0.429 total time=   0.0s\n",
      "[CV 5/5] END .......C=500, gamma=10, kernel=rbf;, score=0.643 total time=   0.0s\n",
      "[CV 1/5] END ......C=500, gamma=0.1, kernel=rbf;, score=0.600 total time=   0.0s\n",
      "[CV 2/5] END ......C=500, gamma=0.1, kernel=rbf;, score=0.667 total time=   0.0s\n",
      "[CV 3/5] END ......C=500, gamma=0.1, kernel=rbf;, score=0.643 total time=   0.0s\n",
      "[CV 4/5] END ......C=500, gamma=0.1, kernel=rbf;, score=0.429 total time=   0.0s\n",
      "[CV 5/5] END ......C=500, gamma=0.1, kernel=rbf;, score=0.714 total time=   0.0s\n",
      "[CV 1/5] END .....C=500, gamma=0.03, kernel=rbf;, score=0.533 total time=   0.0s\n",
      "[CV 2/5] END .....C=500, gamma=0.03, kernel=rbf;, score=0.600 total time=   0.0s\n",
      "[CV 3/5] END .....C=500, gamma=0.03, kernel=rbf;, score=0.357 total time=   0.0s\n",
      "[CV 4/5] END .....C=500, gamma=0.03, kernel=rbf;, score=0.714 total time=   0.0s\n",
      "[CV 5/5] END .....C=500, gamma=0.03, kernel=rbf;, score=0.714 total time=   0.0s\n",
      "[CV 1/5] END .....C=500, gamma=0.01, kernel=rbf;, score=0.533 total time=   0.0s\n",
      "[CV 2/5] END .....C=500, gamma=0.01, kernel=rbf;, score=0.467 total time=   0.0s\n",
      "[CV 3/5] END .....C=500, gamma=0.01, kernel=rbf;, score=0.429 total time=   0.0s\n",
      "[CV 4/5] END .....C=500, gamma=0.01, kernel=rbf;, score=0.643 total time=   0.0s\n",
      "[CV 5/5] END .....C=500, gamma=0.01, kernel=rbf;, score=0.714 total time=   0.0s\n",
      "[CV 1/5] END ....C=500, gamma=0.008, kernel=rbf;, score=0.467 total time=   0.0s\n",
      "[CV 2/5] END ....C=500, gamma=0.008, kernel=rbf;, score=0.533 total time=   0.0s\n",
      "[CV 3/5] END ....C=500, gamma=0.008, kernel=rbf;, score=0.429 total time=   0.0s\n",
      "[CV 4/5] END ....C=500, gamma=0.008, kernel=rbf;, score=0.714 total time=   0.0s\n",
      "[CV 5/5] END ....C=500, gamma=0.008, kernel=rbf;, score=0.714 total time=   0.0s\n",
      "[CV 1/5] END ....C=500, gamma=0.005, kernel=rbf;, score=0.467 total time=   0.0s\n",
      "[CV 2/5] END ....C=500, gamma=0.005, kernel=rbf;, score=0.600 total time=   0.0s\n",
      "[CV 3/5] END ....C=500, gamma=0.005, kernel=rbf;, score=0.357 total time=   0.0s\n",
      "[CV 4/5] END ....C=500, gamma=0.005, kernel=rbf;, score=0.643 total time=   0.0s\n",
      "[CV 5/5] END ....C=500, gamma=0.005, kernel=rbf;, score=0.714 total time=   0.0s\n",
      "[CV 1/5] END .......C=750, gamma=10, kernel=rbf;, score=0.400 total time=   0.0s\n",
      "[CV 2/5] END .......C=750, gamma=10, kernel=rbf;, score=0.533 total time=   0.0s\n",
      "[CV 3/5] END .......C=750, gamma=10, kernel=rbf;, score=0.357 total time=   0.0s\n",
      "[CV 4/5] END .......C=750, gamma=10, kernel=rbf;, score=0.429 total time=   0.0s\n",
      "[CV 5/5] END .......C=750, gamma=10, kernel=rbf;, score=0.643 total time=   0.0s\n",
      "[CV 1/5] END ......C=750, gamma=0.1, kernel=rbf;, score=0.600 total time=   0.0s\n",
      "[CV 2/5] END ......C=750, gamma=0.1, kernel=rbf;, score=0.600 total time=   0.0s\n",
      "[CV 3/5] END ......C=750, gamma=0.1, kernel=rbf;, score=0.643 total time=   0.0s\n",
      "[CV 4/5] END ......C=750, gamma=0.1, kernel=rbf;, score=0.357 total time=   0.0s\n",
      "[CV 5/5] END ......C=750, gamma=0.1, kernel=rbf;, score=0.714 total time=   0.0s\n",
      "[CV 1/5] END .....C=750, gamma=0.03, kernel=rbf;, score=0.600 total time=   0.0s\n",
      "[CV 2/5] END .....C=750, gamma=0.03, kernel=rbf;, score=0.533 total time=   0.0s\n",
      "[CV 3/5] END .....C=750, gamma=0.03, kernel=rbf;, score=0.429 total time=   0.0s\n",
      "[CV 4/5] END .....C=750, gamma=0.03, kernel=rbf;, score=0.571 total time=   0.0s\n",
      "[CV 5/5] END .....C=750, gamma=0.03, kernel=rbf;, score=0.714 total time=   0.0s\n",
      "[CV 1/5] END .....C=750, gamma=0.01, kernel=rbf;, score=0.600 total time=   0.0s\n",
      "[CV 2/5] END .....C=750, gamma=0.01, kernel=rbf;, score=0.467 total time=   0.0s\n",
      "[CV 3/5] END .....C=750, gamma=0.01, kernel=rbf;, score=0.429 total time=   0.0s\n",
      "[CV 4/5] END .....C=750, gamma=0.01, kernel=rbf;, score=0.714 total time=   0.0s\n",
      "[CV 5/5] END .....C=750, gamma=0.01, kernel=rbf;, score=0.714 total time=   0.0s\n",
      "[CV 1/5] END ....C=750, gamma=0.008, kernel=rbf;, score=0.533 total time=   0.0s\n",
      "[CV 2/5] END ....C=750, gamma=0.008, kernel=rbf;, score=0.467 total time=   0.0s\n",
      "[CV 3/5] END ....C=750, gamma=0.008, kernel=rbf;, score=0.429 total time=   0.0s\n",
      "[CV 4/5] END ....C=750, gamma=0.008, kernel=rbf;, score=0.643 total time=   0.0s\n",
      "[CV 5/5] END ....C=750, gamma=0.008, kernel=rbf;, score=0.714 total time=   0.0s\n",
      "[CV 1/5] END ....C=750, gamma=0.005, kernel=rbf;, score=0.467 total time=   0.0s\n",
      "[CV 2/5] END ....C=750, gamma=0.005, kernel=rbf;, score=0.600 total time=   0.0s\n",
      "[CV 3/5] END ....C=750, gamma=0.005, kernel=rbf;, score=0.429 total time=   0.0s\n",
      "[CV 4/5] END ....C=750, gamma=0.005, kernel=rbf;, score=0.714 total time=   0.0s\n",
      "[CV 5/5] END ....C=750, gamma=0.005, kernel=rbf;, score=0.714 total time=   0.0s\n",
      "[CV 1/5] END ......C=1000, gamma=10, kernel=rbf;, score=0.400 total time=   0.0s\n",
      "[CV 2/5] END ......C=1000, gamma=10, kernel=rbf;, score=0.533 total time=   0.0s\n",
      "[CV 3/5] END ......C=1000, gamma=10, kernel=rbf;, score=0.357 total time=   0.0s\n",
      "[CV 4/5] END ......C=1000, gamma=10, kernel=rbf;, score=0.429 total time=   0.0s\n",
      "[CV 5/5] END ......C=1000, gamma=10, kernel=rbf;, score=0.643 total time=   0.0s\n",
      "[CV 1/5] END .....C=1000, gamma=0.1, kernel=rbf;, score=0.600 total time=   0.0s\n",
      "[CV 2/5] END .....C=1000, gamma=0.1, kernel=rbf;, score=0.600 total time=   0.0s\n",
      "[CV 3/5] END .....C=1000, gamma=0.1, kernel=rbf;, score=0.643 total time=   0.0s\n",
      "[CV 4/5] END .....C=1000, gamma=0.1, kernel=rbf;, score=0.357 total time=   0.0s\n",
      "[CV 5/5] END .....C=1000, gamma=0.1, kernel=rbf;, score=0.714 total time=   0.0s\n",
      "[CV 1/5] END ....C=1000, gamma=0.03, kernel=rbf;, score=0.667 total time=   0.0s\n",
      "[CV 2/5] END ....C=1000, gamma=0.03, kernel=rbf;, score=0.600 total time=   0.0s\n",
      "[CV 3/5] END ....C=1000, gamma=0.03, kernel=rbf;, score=0.500 total time=   0.0s\n",
      "[CV 4/5] END ....C=1000, gamma=0.03, kernel=rbf;, score=0.500 total time=   0.0s\n",
      "[CV 5/5] END ....C=1000, gamma=0.03, kernel=rbf;, score=0.714 total time=   0.0s\n",
      "[CV 1/5] END ....C=1000, gamma=0.01, kernel=rbf;, score=0.600 total time=   0.0s\n",
      "[CV 2/5] END ....C=1000, gamma=0.01, kernel=rbf;, score=0.467 total time=   0.0s\n",
      "[CV 3/5] END ....C=1000, gamma=0.01, kernel=rbf;, score=0.571 total time=   0.0s\n",
      "[CV 4/5] END ....C=1000, gamma=0.01, kernel=rbf;, score=0.714 total time=   0.0s\n",
      "[CV 5/5] END ....C=1000, gamma=0.01, kernel=rbf;, score=0.714 total time=   0.0s\n",
      "[CV 1/5] END ...C=1000, gamma=0.008, kernel=rbf;, score=0.600 total time=   0.0s\n",
      "[CV 2/5] END ...C=1000, gamma=0.008, kernel=rbf;, score=0.467 total time=   0.0s\n",
      "[CV 3/5] END ...C=1000, gamma=0.008, kernel=rbf;, score=0.429 total time=   0.0s\n",
      "[CV 4/5] END ...C=1000, gamma=0.008, kernel=rbf;, score=0.714 total time=   0.0s\n",
      "[CV 5/5] END ...C=1000, gamma=0.008, kernel=rbf;, score=0.714 total time=   0.0s\n",
      "[CV 1/5] END ...C=1000, gamma=0.005, kernel=rbf;, score=0.467 total time=   0.0s\n",
      "[CV 2/5] END ...C=1000, gamma=0.005, kernel=rbf;, score=0.533 total time=   0.0s\n",
      "[CV 3/5] END ...C=1000, gamma=0.005, kernel=rbf;, score=0.429 total time=   0.0s\n",
      "[CV 4/5] END ...C=1000, gamma=0.005, kernel=rbf;, score=0.714 total time=   0.0s\n",
      "[CV 5/5] END ...C=1000, gamma=0.005, kernel=rbf;, score=0.714 total time=   0.0s\n",
      "[CV 1/5] END ......C=1200, gamma=10, kernel=rbf;, score=0.400 total time=   0.0s\n",
      "[CV 2/5] END ......C=1200, gamma=10, kernel=rbf;, score=0.533 total time=   0.0s\n",
      "[CV 3/5] END ......C=1200, gamma=10, kernel=rbf;, score=0.357 total time=   0.0s\n",
      "[CV 4/5] END ......C=1200, gamma=10, kernel=rbf;, score=0.429 total time=   0.0s\n",
      "[CV 5/5] END ......C=1200, gamma=10, kernel=rbf;, score=0.643 total time=   0.0s\n",
      "[CV 1/5] END .....C=1200, gamma=0.1, kernel=rbf;, score=0.600 total time=   0.0s\n",
      "[CV 2/5] END .....C=1200, gamma=0.1, kernel=rbf;, score=0.600 total time=   0.0s\n",
      "[CV 3/5] END .....C=1200, gamma=0.1, kernel=rbf;, score=0.714 total time=   0.0s\n",
      "[CV 4/5] END .....C=1200, gamma=0.1, kernel=rbf;, score=0.357 total time=   0.0s\n",
      "[CV 5/5] END .....C=1200, gamma=0.1, kernel=rbf;, score=0.714 total time=   0.0s\n",
      "[CV 1/5] END ....C=1200, gamma=0.03, kernel=rbf;, score=0.667 total time=   0.0s\n",
      "[CV 2/5] END ....C=1200, gamma=0.03, kernel=rbf;, score=0.600 total time=   0.0s\n",
      "[CV 3/5] END ....C=1200, gamma=0.03, kernel=rbf;, score=0.571 total time=   0.0s\n",
      "[CV 4/5] END ....C=1200, gamma=0.03, kernel=rbf;, score=0.500 total time=   0.0s\n",
      "[CV 5/5] END ....C=1200, gamma=0.03, kernel=rbf;, score=0.714 total time=   0.0s\n",
      "[CV 1/5] END ....C=1200, gamma=0.01, kernel=rbf;, score=0.600 total time=   0.0s\n",
      "[CV 2/5] END ....C=1200, gamma=0.01, kernel=rbf;, score=0.533 total time=   0.0s\n",
      "[CV 3/5] END ....C=1200, gamma=0.01, kernel=rbf;, score=0.571 total time=   0.0s\n",
      "[CV 4/5] END ....C=1200, gamma=0.01, kernel=rbf;, score=0.714 total time=   0.0s\n",
      "[CV 5/5] END ....C=1200, gamma=0.01, kernel=rbf;, score=0.714 total time=   0.0s\n",
      "[CV 1/5] END ...C=1200, gamma=0.008, kernel=rbf;, score=0.533 total time=   0.0s\n",
      "[CV 2/5] END ...C=1200, gamma=0.008, kernel=rbf;, score=0.467 total time=   0.0s\n",
      "[CV 3/5] END ...C=1200, gamma=0.008, kernel=rbf;, score=0.500 total time=   0.0s\n",
      "[CV 4/5] END ...C=1200, gamma=0.008, kernel=rbf;, score=0.714 total time=   0.0s\n",
      "[CV 5/5] END ...C=1200, gamma=0.008, kernel=rbf;, score=0.714 total time=   0.0s\n",
      "[CV 1/5] END ...C=1200, gamma=0.005, kernel=rbf;, score=0.467 total time=   0.0s\n",
      "[CV 2/5] END ...C=1200, gamma=0.005, kernel=rbf;, score=0.400 total time=   0.0s\n",
      "[CV 3/5] END ...C=1200, gamma=0.005, kernel=rbf;, score=0.429 total time=   0.0s\n",
      "[CV 4/5] END ...C=1200, gamma=0.005, kernel=rbf;, score=0.714 total time=   0.0s\n",
      "[CV 5/5] END ...C=1200, gamma=0.005, kernel=rbf;, score=0.714 total time=   0.0s\n",
      "[CV 1/5] END ......C=1500, gamma=10, kernel=rbf;, score=0.400 total time=   0.0s\n",
      "[CV 2/5] END ......C=1500, gamma=10, kernel=rbf;, score=0.533 total time=   0.0s\n",
      "[CV 3/5] END ......C=1500, gamma=10, kernel=rbf;, score=0.357 total time=   0.0s\n",
      "[CV 4/5] END ......C=1500, gamma=10, kernel=rbf;, score=0.429 total time=   0.0s\n",
      "[CV 5/5] END ......C=1500, gamma=10, kernel=rbf;, score=0.643 total time=   0.0s\n",
      "[CV 1/5] END .....C=1500, gamma=0.1, kernel=rbf;, score=0.533 total time=   0.0s\n",
      "[CV 2/5] END .....C=1500, gamma=0.1, kernel=rbf;, score=0.600 total time=   0.0s\n",
      "[CV 3/5] END .....C=1500, gamma=0.1, kernel=rbf;, score=0.714 total time=   0.0s\n",
      "[CV 4/5] END .....C=1500, gamma=0.1, kernel=rbf;, score=0.357 total time=   0.0s\n",
      "[CV 5/5] END .....C=1500, gamma=0.1, kernel=rbf;, score=0.714 total time=   0.0s\n",
      "[CV 1/5] END ....C=1500, gamma=0.03, kernel=rbf;, score=0.733 total time=   0.0s\n",
      "[CV 2/5] END ....C=1500, gamma=0.03, kernel=rbf;, score=0.600 total time=   0.0s\n",
      "[CV 3/5] END ....C=1500, gamma=0.03, kernel=rbf;, score=0.500 total time=   0.0s\n",
      "[CV 4/5] END ....C=1500, gamma=0.03, kernel=rbf;, score=0.500 total time=   0.0s\n",
      "[CV 5/5] END ....C=1500, gamma=0.03, kernel=rbf;, score=0.714 total time=   0.0s\n",
      "[CV 1/5] END ....C=1500, gamma=0.01, kernel=rbf;, score=0.600 total time=   0.0s\n",
      "[CV 2/5] END ....C=1500, gamma=0.01, kernel=rbf;, score=0.533 total time=   0.0s\n",
      "[CV 3/5] END ....C=1500, gamma=0.01, kernel=rbf;, score=0.429 total time=   0.0s\n",
      "[CV 4/5] END ....C=1500, gamma=0.01, kernel=rbf;, score=0.714 total time=   0.0s\n",
      "[CV 5/5] END ....C=1500, gamma=0.01, kernel=rbf;, score=0.714 total time=   0.0s\n",
      "[CV 1/5] END ...C=1500, gamma=0.008, kernel=rbf;, score=0.600 total time=   0.0s\n",
      "[CV 2/5] END ...C=1500, gamma=0.008, kernel=rbf;, score=0.533 total time=   0.0s\n",
      "[CV 3/5] END ...C=1500, gamma=0.008, kernel=rbf;, score=0.571 total time=   0.0s\n",
      "[CV 4/5] END ...C=1500, gamma=0.008, kernel=rbf;, score=0.714 total time=   0.0s\n",
      "[CV 5/5] END ...C=1500, gamma=0.008, kernel=rbf;, score=0.714 total time=   0.0s\n",
      "[CV 1/5] END ...C=1500, gamma=0.005, kernel=rbf;, score=0.467 total time=   0.0s\n",
      "[CV 2/5] END ...C=1500, gamma=0.005, kernel=rbf;, score=0.467 total time=   0.0s\n",
      "[CV 3/5] END ...C=1500, gamma=0.005, kernel=rbf;, score=0.429 total time=   0.0s\n",
      "[CV 4/5] END ...C=1500, gamma=0.005, kernel=rbf;, score=0.714 total time=   0.0s\n",
      "[CV 5/5] END ...C=1500, gamma=0.005, kernel=rbf;, score=0.714 total time=   0.0s\n",
      "[CV 1/5] END ......C=1800, gamma=10, kernel=rbf;, score=0.400 total time=   0.0s\n",
      "[CV 2/5] END ......C=1800, gamma=10, kernel=rbf;, score=0.533 total time=   0.0s\n",
      "[CV 3/5] END ......C=1800, gamma=10, kernel=rbf;, score=0.357 total time=   0.0s\n",
      "[CV 4/5] END ......C=1800, gamma=10, kernel=rbf;, score=0.429 total time=   0.0s\n",
      "[CV 5/5] END ......C=1800, gamma=10, kernel=rbf;, score=0.643 total time=   0.0s\n",
      "[CV 1/5] END .....C=1800, gamma=0.1, kernel=rbf;, score=0.533 total time=   0.0s\n",
      "[CV 2/5] END .....C=1800, gamma=0.1, kernel=rbf;, score=0.667 total time=   0.0s\n",
      "[CV 3/5] END .....C=1800, gamma=0.1, kernel=rbf;, score=0.714 total time=   0.0s\n",
      "[CV 4/5] END .....C=1800, gamma=0.1, kernel=rbf;, score=0.357 total time=   0.0s\n",
      "[CV 5/5] END .....C=1800, gamma=0.1, kernel=rbf;, score=0.714 total time=   0.0s\n",
      "[CV 1/5] END ....C=1800, gamma=0.03, kernel=rbf;, score=0.800 total time=   0.0s\n",
      "[CV 2/5] END ....C=1800, gamma=0.03, kernel=rbf;, score=0.600 total time=   0.0s\n",
      "[CV 3/5] END ....C=1800, gamma=0.03, kernel=rbf;, score=0.571 total time=   0.0s\n",
      "[CV 4/5] END ....C=1800, gamma=0.03, kernel=rbf;, score=0.429 total time=   0.0s\n",
      "[CV 5/5] END ....C=1800, gamma=0.03, kernel=rbf;, score=0.714 total time=   0.0s\n",
      "[CV 1/5] END ....C=1800, gamma=0.01, kernel=rbf;, score=0.600 total time=   0.0s\n",
      "[CV 2/5] END ....C=1800, gamma=0.01, kernel=rbf;, score=0.533 total time=   0.0s\n",
      "[CV 3/5] END ....C=1800, gamma=0.01, kernel=rbf;, score=0.357 total time=   0.0s\n",
      "[CV 4/5] END ....C=1800, gamma=0.01, kernel=rbf;, score=0.714 total time=   0.0s\n",
      "[CV 5/5] END ....C=1800, gamma=0.01, kernel=rbf;, score=0.714 total time=   0.0s\n",
      "[CV 1/5] END ...C=1800, gamma=0.008, kernel=rbf;, score=0.600 total time=   0.0s\n",
      "[CV 2/5] END ...C=1800, gamma=0.008, kernel=rbf;, score=0.533 total time=   0.0s\n",
      "[CV 3/5] END ...C=1800, gamma=0.008, kernel=rbf;, score=0.571 total time=   0.0s\n",
      "[CV 4/5] END ...C=1800, gamma=0.008, kernel=rbf;, score=0.714 total time=   0.0s\n",
      "[CV 5/5] END ...C=1800, gamma=0.008, kernel=rbf;, score=0.714 total time=   0.0s\n",
      "[CV 1/5] END ...C=1800, gamma=0.005, kernel=rbf;, score=0.533 total time=   0.0s\n",
      "[CV 2/5] END ...C=1800, gamma=0.005, kernel=rbf;, score=0.533 total time=   0.0s\n",
      "[CV 3/5] END ...C=1800, gamma=0.005, kernel=rbf;, score=0.429 total time=   0.0s\n",
      "[CV 4/5] END ...C=1800, gamma=0.005, kernel=rbf;, score=0.714 total time=   0.0s\n",
      "[CV 5/5] END ...C=1800, gamma=0.005, kernel=rbf;, score=0.786 total time=   0.0s\n",
      "[CV 1/5] END ......C=2000, gamma=10, kernel=rbf;, score=0.400 total time=   0.0s\n",
      "[CV 2/5] END ......C=2000, gamma=10, kernel=rbf;, score=0.533 total time=   0.0s\n",
      "[CV 3/5] END ......C=2000, gamma=10, kernel=rbf;, score=0.357 total time=   0.0s\n",
      "[CV 4/5] END ......C=2000, gamma=10, kernel=rbf;, score=0.429 total time=   0.0s\n",
      "[CV 5/5] END ......C=2000, gamma=10, kernel=rbf;, score=0.643 total time=   0.0s\n",
      "[CV 1/5] END .....C=2000, gamma=0.1, kernel=rbf;, score=0.533 total time=   0.0s\n",
      "[CV 2/5] END .....C=2000, gamma=0.1, kernel=rbf;, score=0.733 total time=   0.0s\n",
      "[CV 3/5] END .....C=2000, gamma=0.1, kernel=rbf;, score=0.714 total time=   0.0s\n",
      "[CV 4/5] END .....C=2000, gamma=0.1, kernel=rbf;, score=0.357 total time=   0.0s\n",
      "[CV 5/5] END .....C=2000, gamma=0.1, kernel=rbf;, score=0.643 total time=   0.0s\n",
      "[CV 1/5] END ....C=2000, gamma=0.03, kernel=rbf;, score=0.800 total time=   0.0s\n",
      "[CV 2/5] END ....C=2000, gamma=0.03, kernel=rbf;, score=0.600 total time=   0.0s\n",
      "[CV 3/5] END ....C=2000, gamma=0.03, kernel=rbf;, score=0.571 total time=   0.0s\n",
      "[CV 4/5] END ....C=2000, gamma=0.03, kernel=rbf;, score=0.429 total time=   0.0s\n",
      "[CV 5/5] END ....C=2000, gamma=0.03, kernel=rbf;, score=0.714 total time=   0.0s\n",
      "[CV 1/5] END ....C=2000, gamma=0.01, kernel=rbf;, score=0.600 total time=   0.0s\n",
      "[CV 2/5] END ....C=2000, gamma=0.01, kernel=rbf;, score=0.533 total time=   0.0s\n",
      "[CV 3/5] END ....C=2000, gamma=0.01, kernel=rbf;, score=0.357 total time=   0.0s\n",
      "[CV 4/5] END ....C=2000, gamma=0.01, kernel=rbf;, score=0.714 total time=   0.0s\n",
      "[CV 5/5] END ....C=2000, gamma=0.01, kernel=rbf;, score=0.714 total time=   0.0s\n",
      "[CV 1/5] END ...C=2000, gamma=0.008, kernel=rbf;, score=0.600 total time=   0.0s\n",
      "[CV 2/5] END ...C=2000, gamma=0.008, kernel=rbf;, score=0.533 total time=   0.0s\n",
      "[CV 3/5] END ...C=2000, gamma=0.008, kernel=rbf;, score=0.500 total time=   0.0s\n",
      "[CV 4/5] END ...C=2000, gamma=0.008, kernel=rbf;, score=0.714 total time=   0.0s\n",
      "[CV 5/5] END ...C=2000, gamma=0.008, kernel=rbf;, score=0.714 total time=   0.0s\n",
      "[CV 1/5] END ...C=2000, gamma=0.005, kernel=rbf;, score=0.533 total time=   0.0s\n",
      "[CV 2/5] END ...C=2000, gamma=0.005, kernel=rbf;, score=0.533 total time=   0.0s\n",
      "[CV 3/5] END ...C=2000, gamma=0.005, kernel=rbf;, score=0.429 total time=   0.0s\n",
      "[CV 4/5] END ...C=2000, gamma=0.005, kernel=rbf;, score=0.714 total time=   0.0s\n",
      "[CV 5/5] END ...C=2000, gamma=0.005, kernel=rbf;, score=0.786 total time=   0.0s\n",
      "Grid Search for best model {'C': 1200, 'gamma': 0.01, 'kernel': 'rbf'}\n",
      "Confusion matrix:\n",
      "[[54 50]\n",
      " [ 5 11]]\n",
      "Classification report:\n",
      "              precision    recall  f1-score   support\n",
      "\n",
      "           0       0.92      0.52      0.66       104\n",
      "           1       0.18      0.69      0.29        16\n",
      "\n",
      "    accuracy                           0.54       120\n",
      "   macro avg       0.55      0.60      0.47       120\n",
      "weighted avg       0.82      0.54      0.61       120\n",
      "\n"
     ]
    },
    {
     "data": {
      "image/png": "[encoded data removed]",
      "text/plain": [
       "<Figure size 640x480 with 1 Axes>"
      ]
     },
     "metadata": {},
     "output_type": "display_data"
    },
    {
     "name": "stdout",
     "output_type": "stream",
     "text": [
      "AUC score:\n",
      "0.6033653846153846\n"
     ]
    }
   ],
   "source": [
    "# Step 10.3 SVM\n",
    "SVM_grid = {'C': [500,750,1000,1200,1500,1800,2000], \n",
    "\t'gamma': [10, 0.1, 0.03, 0.01, 0.008, 0.005], \n",
    "\t'kernel': ['rbf']} \n",
    "SVM_grid_search = GridSearchCV(SVC(), SVM_grid, refit = True, verbose = 3) \n",
    "SVM_grid_search.fit(X_train, y_train)\n",
    "# Grid search result for hyperparameters\n",
    "print(\"Grid Search for best model\", SVM_grid_search.best_params_)\n",
    "SVM_best_model = SVM_grid_search.best_estimator_\n",
    "y_SVM_predict = SVM_best_model.predict(X_test)\n",
    "show_result(y_test, y_SVM_predict)"
   ]
  },
  {
   "cell_type": "markdown",
   "metadata": {},
   "source": [
    "## 5.4 Decision Tree"
   ]
  },
  {
   "cell_type": "code",
   "execution_count": 16,
   "metadata": {},
   "outputs": [
    {
     "name": "stdout",
     "output_type": "stream",
     "text": [
      "Fitting 3 folds for each of 960 candidates, totalling 2880 fits\n",
      "Grid Search for best model {'max_depth': 2, 'max_leaf_nodes': 2, 'min_samples_leaf': 2, 'min_samples_split': 2}\n",
      "Confusion matrix:\n",
      "[[72 32]\n",
      " [ 9  7]]\n",
      "Classification report:\n",
      "              precision    recall  f1-score   support\n",
      "\n",
      "           0       0.89      0.69      0.78       104\n",
      "           1       0.18      0.44      0.25        16\n",
      "\n",
      "    accuracy                           0.66       120\n",
      "   macro avg       0.53      0.56      0.52       120\n",
      "weighted avg       0.79      0.66      0.71       120\n",
      "\n"
     ]
    },
    {
     "data": {
      "image/png": "[encoded data removed]",
      "text/plain": [
       "<Figure size 640x480 with 1 Axes>"
      ]
     },
     "metadata": {},
     "output_type": "display_data"
    },
    {
     "name": "stdout",
     "output_type": "stream",
     "text": [
      "AUC score:\n",
      "0.5649038461538461\n"
     ]
    }
   ],
   "source": [
    "# Step 10.4 Decision tree\n",
    "DT_grid = {'max_depth': [2,4,6,8,10],\n",
    "    'max_leaf_nodes': list(range(2, 10)),\n",
    "    'min_samples_split': list(range(2, 10)),\n",
    "    'min_samples_leaf': [2,3,4]\n",
    "    }\n",
    "DT_grid_search = GridSearchCV(DecisionTreeClassifier(random_state = random_seed), DT_grid, verbose=1, cv=3)\n",
    "DT_grid_search.fit(X_train, y_train)\n",
    "# Grid search result for hyperparameters\n",
    "print(\"Grid Search for best model\", DT_grid_search.best_params_)\n",
    "DT_best_model = DT_grid_search.best_estimator_\n",
    "y_DT_predict = DT_best_model.predict(X_test)\n",
    "show_result(y_test, y_DT_predict)"
   ]
  },
  {
   "cell_type": "markdown",
   "metadata": {},
   "source": [
    "## 5.5 Random Forest"
   ]
  },
  {
   "cell_type": "code",
   "execution_count": 17,
   "metadata": {},
   "outputs": [
    {
     "name": "stdout",
     "output_type": "stream",
     "text": [
      "Grid Search for best model {'max_depth': 5, 'min_samples_split': 35, 'n_estimators': 1200}\n",
      "Confusion matrix:\n",
      "[[67 37]\n",
      " [ 6 10]]\n",
      "Classification report:\n",
      "              precision    recall  f1-score   support\n",
      "\n",
      "           0       0.92      0.64      0.76       104\n",
      "           1       0.21      0.62      0.32        16\n",
      "\n",
      "    accuracy                           0.64       120\n",
      "   macro avg       0.57      0.63      0.54       120\n",
      "weighted avg       0.82      0.64      0.70       120\n",
      "\n"
     ]
    },
    {
     "data": {
      "image/png": "[encoded data removed]",
      "text/plain": [
       "<Figure size 640x480 with 1 Axes>"
      ]
     },
     "metadata": {},
     "output_type": "display_data"
    },
    {
     "name": "stdout",
     "output_type": "stream",
     "text": [
      "AUC score:\n",
      "0.6346153846153846\n"
     ]
    }
   ],
   "source": [
    "# Step 10.5 Random forest\n",
    "RF_grid = {\"n_estimators\":[800,1000,1200],\n",
    "    'max_depth':[4,5,6],\n",
    "    \"min_samples_split\":[25,30,35]\n",
    "    }\n",
    "RF_grid_search = GridSearchCV(RandomForestClassifier(),param_grid = RF_grid,cv=3,scoring='accuracy')\n",
    "RF_grid_search.fit(X_train, y_train)\n",
    "# Grid search result for hyperparameters\n",
    "print(\"Grid Search for best model\", RF_grid_search.best_params_)\n",
    "RF_best_model = RF_grid_search.best_estimator_\n",
    "y_RF_predict = RF_best_model.predict(X_test)\n",
    "show_result(y_test, y_RF_predict)"
   ]
  }
 ],
 "metadata": {
  "interpreter": {
   "hash": "53f77e6fed25f8bba1196a18c168589b39cfa91af9d1d4dbe542bb826343e22e"
  },
  "kernelspec": {
   "display_name": "Python 3.10.0 64-bit",
   "language": "python",
   "name": "python3"
  },
  "language_info": {
   "codemirror_mode": {
    "name": "ipython",
    "version": 3
   },
   "file_extension": ".py",
   "mimetype": "text/x-python",
   "name": "python",
   "nbconvert_exporter": "python",
   "pygments_lexer": "ipython3",
   "version": "3.10.0"
  },
  "orig_nbformat": 4
 },
 "nbformat": 4,
 "nbformat_minor": 2
}
